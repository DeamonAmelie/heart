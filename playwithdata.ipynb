{
  "nbformat": 4,
  "nbformat_minor": 5,
  "metadata": {
    "kernelspec": {
      "display_name": "Python 3",
      "language": "python",
      "name": "python3"
    },
    "language_info": {
      "codemirror_mode": {
        "name": "ipython",
        "version": 3
      },
      "file_extension": ".py",
      "mimetype": "text/x-python",
      "name": "python",
      "nbconvert_exporter": "python",
      "pygments_lexer": "ipython3",
      "version": "3.9.4"
    },
    "colab": {
      "name": "playwithdata.ipynb",
      "provenance": []
    }
  },
  "cells": [
    {
      "cell_type": "markdown",
      "metadata": {
        "id": "kpbjtahQKRsa"
      },
      "source": [
        "**Zum Spielen**"
      ],
      "id": "kpbjtahQKRsa"
    },
    {
      "cell_type": "code",
      "metadata": {
        "id": "ZzrWYaGyKp_L"
      },
      "source": [
        "import pandas as pd\n",
        "import numpy as np\n",
        "import matplotlib.pyplot as plt\n",
        "import seaborn as sns"
      ],
      "id": "ZzrWYaGyKp_L",
      "execution_count": 14,
      "outputs": []
    },
    {
      "cell_type": "markdown",
      "metadata": {
        "id": "vWqoWAioKP3X"
      },
      "source": [
        "Als erstes importieren wir unser github Repo. Der nächste Schritt ist der import des Datasets.\n"
      ],
      "id": "vWqoWAioKP3X"
    },
    {
      "cell_type": "code",
      "metadata": {
        "id": "71d765fe",
        "colab": {
          "base_uri": "https://localhost:8080/"
        },
        "outputId": "dbbc7ade-5000-410f-80b9-99bcaf7da2d3"
      },
      "source": [
        "#!git clone https://github.com/DeamonAmelie/heart\n",
        "#!git pull https://github.com/DeamonAmelie/heart\n",
        "!wget https://raw.githubusercontent.com/DeamonAmelie/heart/main/processed.cleveland.data.csv\n",
        "!pwd\n",
        "!ls"
      ],
      "id": "71d765fe",
      "execution_count": 11,
      "outputs": [
        {
          "output_type": "stream",
          "text": [
            "--2021-05-19 15:44:30--  https://raw.githubusercontent.com/DeamonAmelie/heart/main/processed.cleveland.data.csv\n",
            "Resolving raw.githubusercontent.com (raw.githubusercontent.com)... 185.199.108.133, 185.199.109.133, 185.199.110.133, ...\n",
            "Connecting to raw.githubusercontent.com (raw.githubusercontent.com)|185.199.108.133|:443... connected.\n",
            "HTTP request sent, awaiting response... 200 OK\n",
            "Length: 18461 (18K) [text/plain]\n",
            "Saving to: ‘processed.cleveland.data.csv.1’\n",
            "\n",
            "\r          processed   0%[                    ]       0  --.-KB/s               \rprocessed.cleveland 100%[===================>]  18.03K  --.-KB/s    in 0.001s  \n",
            "\n",
            "2021-05-19 15:44:31 (26.5 MB/s) - ‘processed.cleveland.data.csv.1’ saved [18461/18461]\n",
            "\n",
            "/content\n",
            "heart\t\t\t    processed.cleveland.data.csv\n",
            "processed.cleveland.data    processed.cleveland.data.csv.1\n",
            "processed.cleveland.data.1  sample_data\n"
          ],
          "name": "stdout"
        }
      ]
    },
    {
      "cell_type": "code",
      "metadata": {
        "colab": {
          "base_uri": "https://localhost:8080/",
          "height": 206
        },
        "id": "baJqpkpgK3uz",
        "outputId": "893bfa30-da8c-472b-ce8a-9c5dfc990db8"
      },
      "source": [
        "#df = pd.read_csv(\"heart/heart.csv\")\n",
        "df = pd.read_csv(\"processed.cleveland.data.csv\")\n",
        "df.head()"
      ],
      "id": "baJqpkpgK3uz",
      "execution_count": 15,
      "outputs": [
        {
          "output_type": "execute_result",
          "data": {
            "text/html": [
              "<div>\n",
              "<style scoped>\n",
              "    .dataframe tbody tr th:only-of-type {\n",
              "        vertical-align: middle;\n",
              "    }\n",
              "\n",
              "    .dataframe tbody tr th {\n",
              "        vertical-align: top;\n",
              "    }\n",
              "\n",
              "    .dataframe thead th {\n",
              "        text-align: right;\n",
              "    }\n",
              "</style>\n",
              "<table border=\"1\" class=\"dataframe\">\n",
              "  <thead>\n",
              "    <tr style=\"text-align: right;\">\n",
              "      <th></th>\n",
              "      <th>63.0</th>\n",
              "      <th>1.0</th>\n",
              "      <th>1.0.1</th>\n",
              "      <th>145.0</th>\n",
              "      <th>233.0</th>\n",
              "      <th>1.0.2</th>\n",
              "      <th>2.0</th>\n",
              "      <th>150.0</th>\n",
              "      <th>0.0</th>\n",
              "      <th>2.3</th>\n",
              "      <th>3.0</th>\n",
              "      <th>0.0.1</th>\n",
              "      <th>6.0</th>\n",
              "      <th>0</th>\n",
              "    </tr>\n",
              "  </thead>\n",
              "  <tbody>\n",
              "    <tr>\n",
              "      <th>0</th>\n",
              "      <td>67.0</td>\n",
              "      <td>1.0</td>\n",
              "      <td>4.0</td>\n",
              "      <td>160.0</td>\n",
              "      <td>286.0</td>\n",
              "      <td>0.0</td>\n",
              "      <td>2.0</td>\n",
              "      <td>108.0</td>\n",
              "      <td>1.0</td>\n",
              "      <td>1.5</td>\n",
              "      <td>2.0</td>\n",
              "      <td>3.0</td>\n",
              "      <td>3.0</td>\n",
              "      <td>2</td>\n",
              "    </tr>\n",
              "    <tr>\n",
              "      <th>1</th>\n",
              "      <td>67.0</td>\n",
              "      <td>1.0</td>\n",
              "      <td>4.0</td>\n",
              "      <td>120.0</td>\n",
              "      <td>229.0</td>\n",
              "      <td>0.0</td>\n",
              "      <td>2.0</td>\n",
              "      <td>129.0</td>\n",
              "      <td>1.0</td>\n",
              "      <td>2.6</td>\n",
              "      <td>2.0</td>\n",
              "      <td>2.0</td>\n",
              "      <td>7.0</td>\n",
              "      <td>1</td>\n",
              "    </tr>\n",
              "    <tr>\n",
              "      <th>2</th>\n",
              "      <td>37.0</td>\n",
              "      <td>1.0</td>\n",
              "      <td>3.0</td>\n",
              "      <td>130.0</td>\n",
              "      <td>250.0</td>\n",
              "      <td>0.0</td>\n",
              "      <td>0.0</td>\n",
              "      <td>187.0</td>\n",
              "      <td>0.0</td>\n",
              "      <td>3.5</td>\n",
              "      <td>3.0</td>\n",
              "      <td>0.0</td>\n",
              "      <td>3.0</td>\n",
              "      <td>0</td>\n",
              "    </tr>\n",
              "    <tr>\n",
              "      <th>3</th>\n",
              "      <td>41.0</td>\n",
              "      <td>0.0</td>\n",
              "      <td>2.0</td>\n",
              "      <td>130.0</td>\n",
              "      <td>204.0</td>\n",
              "      <td>0.0</td>\n",
              "      <td>2.0</td>\n",
              "      <td>172.0</td>\n",
              "      <td>0.0</td>\n",
              "      <td>1.4</td>\n",
              "      <td>1.0</td>\n",
              "      <td>0.0</td>\n",
              "      <td>3.0</td>\n",
              "      <td>0</td>\n",
              "    </tr>\n",
              "    <tr>\n",
              "      <th>4</th>\n",
              "      <td>56.0</td>\n",
              "      <td>1.0</td>\n",
              "      <td>2.0</td>\n",
              "      <td>120.0</td>\n",
              "      <td>236.0</td>\n",
              "      <td>0.0</td>\n",
              "      <td>0.0</td>\n",
              "      <td>178.0</td>\n",
              "      <td>0.0</td>\n",
              "      <td>0.8</td>\n",
              "      <td>1.0</td>\n",
              "      <td>0.0</td>\n",
              "      <td>3.0</td>\n",
              "      <td>0</td>\n",
              "    </tr>\n",
              "  </tbody>\n",
              "</table>\n",
              "</div>"
            ],
            "text/plain": [
              "   63.0  1.0  1.0.1  145.0  233.0  1.0.2  ...  0.0  2.3  3.0  0.0.1  6.0  0\n",
              "0  67.0  1.0    4.0  160.0  286.0    0.0  ...  1.0  1.5  2.0    3.0  3.0  2\n",
              "1  67.0  1.0    4.0  120.0  229.0    0.0  ...  1.0  2.6  2.0    2.0  7.0  1\n",
              "2  37.0  1.0    3.0  130.0  250.0    0.0  ...  0.0  3.5  3.0    0.0  3.0  0\n",
              "3  41.0  0.0    2.0  130.0  204.0    0.0  ...  0.0  1.4  1.0    0.0  3.0  0\n",
              "4  56.0  1.0    2.0  120.0  236.0    0.0  ...  0.0  0.8  1.0    0.0  3.0  0\n",
              "\n",
              "[5 rows x 14 columns]"
            ]
          },
          "metadata": {
            "tags": []
          },
          "execution_count": 15
        }
      ]
    },
    {
      "cell_type": "markdown",
      "metadata": {
        "id": "uwpPTcGqMkFX"
      },
      "source": [
        "## Beschreibung der Daten\n",
        "\n",
        "age - Age of the patient\n",
        "\n",
        "sex - Sex of the patient\n",
        "\n",
        "cp - Chest pain type ~ 0 = Typical Angina, 1 = Atypical Angina, 2 = Non-anginal Pain, 3 = Asymptomatic\n",
        "\n",
        "trtbps - Resting blood pressure (in mm Hg)\n",
        "\n",
        "chol - Cholestoral in mg/dl fetched via BMI sensor\n",
        "\n",
        "fbs - (fasting blood sugar > 120 mg/dl) ~ 1 = True, 0 = False\n",
        "\n",
        "restecg - Resting electrocardiographic results ~ 0 = Normal, 1 = ST-T wave normality, 2 = Left ventricular hypertrophy\n",
        "\n",
        "thalachh - Maximum heart rate achieved\n",
        "\n",
        "oldpeak - Previous peak\n",
        "\n",
        "slp - Slope\n",
        "\n",
        "caa - Number of major vessels\n",
        "\n",
        "thall - Thalium Stress Test result ~ (0,3)\n",
        "\n",
        "exng - Exercise induced angina ~ 1 = Yes, 0 = No\n",
        "\n",
        "output - Target variable, 1=High chance of heart attack, 0=low chance heart attack\n",
        "\n"
      ],
      "id": "uwpPTcGqMkFX"
    },
    {
      "cell_type": "markdown",
      "metadata": {
        "id": "_qYxtpIMNVOE"
      },
      "source": [
        "## EDA \n",
        "\n",
        "\n",
        "*   Daten Darstellen\n",
        "*   Daten transfrmieren ?\n",
        "* Daten nochmal darstellen\n",
        "* korrelation darstellen\n",
        "\n"
      ],
      "id": "_qYxtpIMNVOE"
    }
  ]
}